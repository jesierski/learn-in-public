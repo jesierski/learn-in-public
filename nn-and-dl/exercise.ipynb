{
 "cells": [
  {
   "cell_type": "code",
   "execution_count": 35,
   "metadata": {},
   "outputs": [
    {
     "name": "stdout",
     "output_type": "stream",
     "text": [
      "[1 2 3 4]\n"
     ]
    }
   ],
   "source": [
    "import numpy as np\n",
    "\n",
    "a = np.array([1,2,3,4])\n",
    "print(a)"
   ]
  },
  {
   "cell_type": "code",
   "execution_count": 44,
   "metadata": {},
   "outputs": [
    {
     "name": "stdout",
     "output_type": "stream",
     "text": [
      "Vectorized version: 1.0051727294921875ms\n"
     ]
    }
   ],
   "source": [
    "import time\n",
    "\n",
    "a = np.random.rand(1000000)\n",
    "b = np.random.rand(1000000)\n",
    "\n",
    "tic = time.time()\n",
    "c = np.dot(a,b)\n",
    "toc = time.time()\n",
    "\n",
    "print( \"Vectorized version: \" + str(1000*(toc-tic)) + \"ms\")"
   ]
  },
  {
   "cell_type": "code",
   "execution_count": 37,
   "metadata": {},
   "outputs": [
    {
     "name": "stdout",
     "output_type": "stream",
     "text": [
      "249970.647224128\n",
      "Vectorized version: 3.0ms\n",
      "249970.64722413413\n",
      "For loop: 634.08ms\n"
     ]
    }
   ],
   "source": [
    "import time\n",
    "\n",
    "a = np.random.rand(1000000)\n",
    "b = np.random.rand(1000000)\n",
    "\n",
    "tic = time.time()\n",
    "c = np.dot(a,b)\n",
    "toc = time.time()\n",
    "\n",
    "print(c)\n",
    "print( \"Vectorized version: \" + str(round(1000*(toc-tic), 2)) + \"ms\")\n",
    "\n",
    "c = 0\n",
    "\n",
    "tic = time.time()\n",
    "for i in range(1000000):\n",
    "    c += a[i]*b[i]\n",
    "toc = time.time()\n",
    "\n",
    "print(c)\n",
    "print(\"For loop: \" + str(round(1000*(toc-tic), 2)) +  \"ms\")\n"
   ]
  },
  {
   "cell_type": "code",
   "execution_count": 64,
   "metadata": {},
   "outputs": [
    {
     "name": "stdout",
     "output_type": "stream",
     "text": [
      "2000\n",
      "(1000, 2000)\n",
      "For loop matrix multiplication: 7384.26ms\n",
      "2000\n",
      "(1000, 2000)\n",
      "Vectorized version of matrix multiplication: 1ms\n"
     ]
    }
   ],
   "source": [
    "\n",
    "m = 1000\n",
    "n = 2000\n",
    "A = np.random.rand(m,n)\n",
    "v = np.random.rand(n)\n",
    "\n",
    "u = np.zeros((n,1))\n",
    "tic = time.time()\n",
    "for i in range(m-1):\n",
    "    for j in range(n-1):\n",
    "        u[i] += A[i][j]*v[j]\n",
    "toc = time.time()\n",
    "\n",
    "print(len(v))\n",
    "print(A.shape)\n",
    "print(\"For loop matrix multiplication: \" + str(round(1000*(toc-tic),2)) + \"ms\")\n",
    "\n",
    "tic = time.time()\n",
    "u = np.dot(A,v)\n",
    "toc = time.time()\n",
    "\n",
    "print(len(v))\n",
    "print(A.shape)\n",
    "print(\"Vectorized version of matrix multiplication: \" + str(round(1000*(toc-tic))) + \"ms\")"
   ]
  },
  {
   "cell_type": "code",
   "execution_count": null,
   "metadata": {},
   "outputs": [],
   "source": []
  },
  {
   "cell_type": "code",
   "execution_count": null,
   "metadata": {},
   "outputs": [],
   "source": []
  }
 ],
 "metadata": {
  "kernelspec": {
   "display_name": "NNnDL",
   "language": "python",
   "name": "python3"
  },
  "language_info": {
   "codemirror_mode": {
    "name": "ipython",
    "version": 3
   },
   "file_extension": ".py",
   "mimetype": "text/x-python",
   "name": "python",
   "nbconvert_exporter": "python",
   "pygments_lexer": "ipython3",
   "version": "3.9.18"
  }
 },
 "nbformat": 4,
 "nbformat_minor": 2
}
